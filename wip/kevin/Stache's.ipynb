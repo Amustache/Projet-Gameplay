{
 "cells": [
  {
   "cell_type": "markdown",
   "id": "9f552aea",
   "metadata": {},
   "source": [
    "### Imports and parameters"
   ]
  },
  {
   "cell_type": "code",
   "execution_count": null,
   "id": "55cee9a8",
   "metadata": {},
   "outputs": [],
   "source": [
    "import pandas as pd\n",
    "import numpy as np\n",
    "import matplotlib.pyplot as plt\n",
    "from wordcloud import WordCloud, STOPWORDS\n",
    "import re\n",
    "%matplotlib notebook"
   ]
  },
  {
   "cell_type": "code",
   "execution_count": null,
   "id": "ad2cec10",
   "metadata": {},
   "outputs": [],
   "source": [
    "file = \"inputs/2022-11-23-12_13_44.csv\""
   ]
  },
  {
   "cell_type": "code",
   "execution_count": null,
   "id": "3d47f083",
   "metadata": {},
   "outputs": [],
   "source": [
    "df = pd.read_csv(file)\n",
    "df.head()"
   ]
  },
  {
   "cell_type": "markdown",
   "id": "d8bc1911",
   "metadata": {},
   "source": [
    "### Only keep keys that are of our interest"
   ]
  },
  {
   "cell_type": "code",
   "execution_count": null,
   "id": "3ac1e9d7",
   "metadata": {},
   "outputs": [],
   "source": [
    "df_trim = df[(df['KEY'] == 'Key.left') | (df['KEY'] == 'Key.right') | (df['KEY'] == '\\'d\\'')]\n",
    "\n",
    "df_trim.loc[(df_trim['KEY'] == 'Key.right') & (df_trim['STATUS'] == 'DOWN'), 'action'] = 'R'\n",
    "df_trim.loc[(df_trim['KEY'] == 'Key.right') & (df_trim['STATUS'] == 'UP'), 'action'] = 'r'\n",
    "\n",
    "df_trim.loc[(df_trim['KEY'] == 'Key.left') & (df_trim['STATUS'] == 'DOWN'), 'action'] = 'L'\n",
    "df_trim.loc[(df_trim['KEY'] == 'Key.left') & (df_trim['STATUS'] == 'UP'), 'action'] = 'l'\n",
    "\n",
    "df_trim.loc[(df_trim['KEY'] == '\\'d\\'') & (df_trim['STATUS'] == 'DOWN'), 'action'] = 'J'\n",
    "df_trim.loc[(df_trim['KEY'] == '\\'d\\'') & (df_trim['STATUS'] == 'UP'), 'action'] = 'j'"
   ]
  },
  {
   "cell_type": "code",
   "execution_count": null,
   "id": "1d36d5cf",
   "metadata": {},
   "outputs": [],
   "source": [
    "df_trim = df_trim[[\"FRAME\", \"action\"]].reset_index(drop=True)\n",
    "df_trim.head()"
   ]
  },
  {
   "cell_type": "markdown",
   "id": "4640bf58",
   "metadata": {},
   "source": [
    "### Extract timeline"
   ]
  },
  {
   "cell_type": "code",
   "execution_count": null,
   "id": "cdb6b1e7",
   "metadata": {},
   "outputs": [],
   "source": [
    "start = df_trim.FRAME.min()\n",
    "\n",
    "# r, j, l\n",
    "data = {\"R\": [], \"L\": [], \"J\": []}\n",
    "r=0\n",
    "l=0\n",
    "j=0\n",
    "for index, row in df_trim.iterrows():\n",
    "    if row.action == \"R\".upper():\n",
    "        data[\"R\"].append([row.FRAME])\n",
    "    if row.action == \"R\".lower():\n",
    "        data[\"R\"][-1].append(row.FRAME - data[\"R\"][-1][0])\n",
    "        \n",
    "    if row.action == \"L\".upper():\n",
    "        data[\"L\"].append([row.FRAME])\n",
    "    if row.action == \"L\".lower():\n",
    "        data[\"L\"][-1].append(row.FRAME - data[\"L\"][-1][0])\n",
    "        \n",
    "    if row.action == \"J\".upper():\n",
    "        data[\"J\"].append([row.FRAME])\n",
    "    if row.action == \"J\".lower():\n",
    "        data[\"J\"][-1].append(row.FRAME - data[\"J\"][-1][0])"
   ]
  },
  {
   "cell_type": "code",
   "execution_count": null,
   "id": "a260770a",
   "metadata": {},
   "outputs": [],
   "source": [
    "fig, ax = plt.subplots()\n",
    "ax.broken_barh(data[\"R\"], (10, 9), facecolors='tab:red')\n",
    "ax.broken_barh(data[\"L\"], (20, 9), facecolors='tab:green')\n",
    "ax.broken_barh(data[\"J\"], (30, 9), facecolors='tab:blue')\n",
    "plt.show()"
   ]
  },
  {
   "cell_type": "markdown",
   "id": "42641fc5",
   "metadata": {},
   "source": [
    "### Extract patterns"
   ]
  },
  {
   "cell_type": "code",
   "execution_count": null,
   "id": "dcc23db7",
   "metadata": {},
   "outputs": [],
   "source": [
    "all_keys = ''.join(list(df_trim[\"action\"]))\n",
    "all_keys"
   ]
  },
  {
   "cell_type": "code",
   "execution_count": null,
   "id": "709dbf82",
   "metadata": {},
   "outputs": [],
   "source": [
    "def getAllSubStrings(x, l=None, freq=False):\n",
    "    if l == None:\n",
    "        l = len(x)\n",
    "    \n",
    "    allSubStrings = [x[i:i+l] for i in range(0, len(x)) if len(x[i:i+l]) == l]\n",
    "\n",
    "    if freq:\n",
    "        return allSubStrings\n",
    "    else:\n",
    "        return set(allSubStrings)"
   ]
  },
  {
   "cell_type": "code",
   "execution_count": null,
   "id": "9d21c9e2",
   "metadata": {},
   "outputs": [],
   "source": [
    "def extract_freq(x, l=3, sort='value'):\n",
    "    res = {}\n",
    "    substrings = getAllSubStrings(all_keys, l=l, freq=True)\n",
    "    for idx in substrings:\n",
    "        if idx not in res.keys():\n",
    "            res[idx] = 1\n",
    "        else:\n",
    "            res[idx] += 1\n",
    "    if sort == 'key':\n",
    "        return dict(sorted(res.items(), key=lambda item: item[0], reverse=False))\n",
    "    elif sort == 'value':\n",
    "        return dict(sorted(res.items(), key=lambda item: item[1], reverse=True))"
   ]
  },
  {
   "cell_type": "code",
   "execution_count": null,
   "id": "3979164d",
   "metadata": {},
   "outputs": [],
   "source": [
    "all_patterns = {}\n",
    "for i in range(4, 11):\n",
    "    all_patterns.update(extract_freq(all_keys, l=i, sort='value'))\n",
    "all_patterns = dict(sorted(all_patterns.items(), key=lambda item: item[1], reverse=True))\n",
    "all_patterns"
   ]
  },
  {
   "cell_type": "markdown",
   "id": "f1356960",
   "metadata": {},
   "source": [
    "### First 10 patterns"
   ]
  },
  {
   "cell_type": "code",
   "execution_count": null,
   "id": "3799b452",
   "metadata": {
    "scrolled": false
   },
   "outputs": [],
   "source": [
    "from itertools import islice\n",
    "n_items = list(islice(all_patterns.items(), 10))\n",
    "print(n_items)\n",
    "keys = []\n",
    "values = []\n",
    "for i, (k, v) in enumerate(n_items):\n",
    "    k = k.replace(\"J\", \"J(\")\n",
    "    k = k.replace(\"j\", \")\")\n",
    "    k = k.replace(\"R\", \"R(\")\n",
    "    k = k.replace(\"r\", \")\")\n",
    "    k = k.replace(\"L\", \"L(\")\n",
    "    k = k.replace(\"l\", \")\")\n",
    "    keys.append(k)\n",
    "    values.append(v)\n",
    "    \n",
    "fig, ax = plt.subplots()\n",
    "ax.bar(keys, values)\n",
    "plt.show()"
   ]
  },
  {
   "cell_type": "markdown",
   "id": "4b66594b",
   "metadata": {},
   "source": [
    "### Where are the patterns"
   ]
  },
  {
   "cell_type": "code",
   "execution_count": null,
   "id": "83146c8d",
   "metadata": {},
   "outputs": [],
   "source": [
    "place_patterns = {}\n",
    "for pattern in all_patterns.keys():\n",
    "    place_patterns[pattern] = []\n",
    "    for m in re.finditer(f'(?={pattern})', all_keys):\n",
    "        place_patterns[pattern].append(df_trim.iloc[m.start()].FRAME)\n",
    "place_patterns"
   ]
  },
  {
   "cell_type": "markdown",
   "id": "5054bbef",
   "metadata": {},
   "source": [
    "### Example: finding the \"double jump\" pattern"
   ]
  },
  {
   "cell_type": "code",
   "execution_count": null,
   "id": "13692657",
   "metadata": {
    "scrolled": false
   },
   "outputs": [],
   "source": [
    "fig, ax = plt.subplots()\n",
    "ax.broken_barh(data[\"R\"], (10, 9), facecolors='tab:red')\n",
    "ax.broken_barh(data[\"L\"], (20, 9), facecolors='tab:green')\n",
    "ax.broken_barh(data[\"J\"], (30, 9), facecolors='tab:blue')\n",
    "ax.scatter(place_patterns[\"JjJj\"], len(place_patterns[\"JjJj\"]) * [40], c='red')\n",
    "plt.show()"
   ]
  },
  {
   "cell_type": "code",
   "execution_count": null,
   "id": "ca3d9a61",
   "metadata": {},
   "outputs": [],
   "source": []
  }
 ],
 "metadata": {
  "kernelspec": {
   "display_name": "Python 3 (ipykernel)",
   "language": "python",
   "name": "python3"
  },
  "language_info": {
   "codemirror_mode": {
    "name": "ipython",
    "version": 3
   },
   "file_extension": ".py",
   "mimetype": "text/x-python",
   "name": "python",
   "nbconvert_exporter": "python",
   "pygments_lexer": "ipython3",
   "version": "3.10.4"
  }
 },
 "nbformat": 4,
 "nbformat_minor": 5
}
